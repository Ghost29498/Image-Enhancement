{
 "cells": [
  {
   "cell_type": "code",
   "execution_count": null,
   "metadata": {},
   "outputs": [],
   "source": [
    "from NoiseRemoval import *\n",
    "modelPath = 'C:/Users/shriram/Downloads/NTIRE_DGU_3DMlab_test_codes/test_code_for_submit/checkpoints/DGU-3DMlab1_track2.pkl'\n",
    "imgPath = 'E:/DemoImages/Noise/dining_41.jpg'\n",
    "device = 'cpu'\n",
    "noiseRemoval = NoiseRemoval(modelPath,device)\n",
    "img = noiseRemoval.removeNoise(imgPath)\n",
    "cv2.imwrite('E:/asdfghjk123456.jpg',img)"
   ]
  }
 ],
 "metadata": {
  "kernelspec": {
   "display_name": "Python 3",
   "language": "python",
   "name": "python3"
  },
  "language_info": {
   "codemirror_mode": {
    "name": "ipython",
    "version": 3
   },
   "file_extension": ".py",
   "mimetype": "text/x-python",
   "name": "python",
   "nbconvert_exporter": "python",
   "pygments_lexer": "ipython3",
   "version": "3.6.5"
  }
 },
 "nbformat": 4,
 "nbformat_minor": 2
}
