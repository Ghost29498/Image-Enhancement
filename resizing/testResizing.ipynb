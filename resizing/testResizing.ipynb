{
 "cells": [
  {
   "cell_type": "code",
   "execution_count": null,
   "metadata": {},
   "outputs": [
    {
     "name": "stdout",
     "output_type": "stream",
     "text": [
      "Hi\n",
      "upscaling\n"
     ]
    }
   ],
   "source": [
    "from resizing import *\n",
    "print('Hi')\n",
    "imgName = 'E:/sample Resize/input/SING00426.jpg'\n",
    "modelPath = 'E:/models/resizing/RRDB_ESRGAN_x4.pth'\n",
    "device = 'cpu'\n",
    "resize = Resizing(modelPath,device)\n",
    "newImage =  resize.resizing(imgName,1636,2200)\n",
    "if(type(newImage)!= bool):\n",
    "    cv2.imwrite('E:/sample Resize/output/OutIND0008811.jpg',newImage)\n",
    "    print('Done')\n",
    "else:\n",
    "    print('Not possible')"
   ]
  },
  {
   "cell_type": "code",
   "execution_count": null,
   "metadata": {},
   "outputs": [],
   "source": []
  }
 ],
 "metadata": {
  "kernelspec": {
   "display_name": "Python 3",
   "language": "python",
   "name": "python3"
  },
  "language_info": {
   "codemirror_mode": {
    "name": "ipython",
    "version": 3
   },
   "file_extension": ".py",
   "mimetype": "text/x-python",
   "name": "python",
   "nbconvert_exporter": "python",
   "pygments_lexer": "ipython3",
   "version": "3.6.5"
  }
 },
 "nbformat": 4,
 "nbformat_minor": 2
}
